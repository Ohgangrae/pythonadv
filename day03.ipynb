{
 "cells": [
  {
   "cell_type": "code",
   "execution_count": 2,
   "metadata": {},
   "outputs": [],
   "source": [
    "#Building NFT\n",
    "import sys #하드웨어 접근모듈\n",
    "from PyQt5.QtWidgets import * #파이큐티 관련모듈\n",
    "from PyQt5 import uic #UI 관련모듈\n",
    "\n",
    "# !pip install pybithumb\n",
    "import pybithumb\n",
    "\n",
    "\n",
    "#####################\n",
    "# 버튼이 동작하는 창\n",
    "#####################\n",
    "\n",
    "form_class = uic.loadUiType(\"day03.ui\")[0]\n",
    "tickers = [\"BTC\",\"ETH\",\"XRP\",\"ADA\"]\n",
    "\n",
    "# pyqt 로 만든 ui폼 불러오기\n",
    "\n",
    "class Mywindow(QMainWindow,form_class): #MyWindow 클래스를 상속 받아서 작성\n",
    "    def __init__(self):                 #생성자로 창 생성\n",
    "        super().__init__()               # 부모의 생성자를 이용\n",
    "        self.setupUi(self)               # ui 창을 생성\n",
    "        self.pushButton.clicked.connect(self.bnk_clicked)  #버튼 클릭시 연결되는 매서드 정의\n",
    "        \n",
    "    def bnk_clicked(self):\n",
    "        for i, ticker in enumerate(tickers):\n",
    "            item = QTableWidgetItem(ticker)\n",
    "            self.tableWidget.setItem(i,0,item)\n",
    "            price = QTableWidgetItem(str(pybithumb.get_current_price(ticker)))\n",
    "            self.tableWidget.setItem(i,1,price)\n",
    "        \n",
    "        \n",
    "app = QApplication(sys.argv)             # 파이썬은 원래 인터프리터 -> 한줄씩 실행후 종료\n",
    "window = Mywindow()                      # 윈도우 클래스로 객체 생성\n",
    "window.show()                            # 생성한 객체를 통해 창을 보여주는\n",
    "app.exec_()                               # 윈도우 창이 열린상태로 계속 대기 상태로 만듬"
   ]
  }
 ],
 "metadata": {
  "interpreter": {
   "hash": "b3ba2566441a7c06988d0923437866b63cedc61552a5af99d1f4fb67d367b25f"
  },
  "kernelspec": {
   "display_name": "Python 3.9.7 ('base')",
   "language": "python",
   "name": "python3"
  },
  "language_info": {
   "codemirror_mode": {
    "name": "ipython",
    "version": 3
   },
   "file_extension": ".py",
   "mimetype": "text/x-python",
   "name": "python",
   "nbconvert_exporter": "python",
   "pygments_lexer": "ipython3",
   "version": "3.9.7"
  },
  "orig_nbformat": 4
 },
 "nbformat": 4,
 "nbformat_minor": 2
}
