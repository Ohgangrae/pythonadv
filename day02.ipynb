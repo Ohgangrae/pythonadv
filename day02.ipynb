{
 "cells": [
  {
   "cell_type": "code",
   "execution_count": 2,
   "metadata": {},
   "outputs": [],
   "source": [
    "#Building NFT\n",
    "import sys #하드웨어 접근모듈\n",
    "from PyQt5.QtWidgets import * #파이큐티 관련모듈\n",
    "from PyQt5 import uic #UI 관련모듈"
   ]
  },
  {
   "cell_type": "code",
   "execution_count": 3,
   "metadata": {},
   "outputs": [
    {
     "ename": "KeyboardInterrupt",
     "evalue": "",
     "output_type": "error",
     "traceback": [
      "\u001b[1;31m---------------------------------------------------------------------------\u001b[0m",
      "\u001b[1;31mKeyboardInterrupt\u001b[0m                         Traceback (most recent call last)",
      "\u001b[1;32m~\\AppData\\Local\\Temp/ipykernel_13128/1836510919.py\u001b[0m in \u001b[0;36m<module>\u001b[1;34m\u001b[0m\n\u001b[0;32m      9\u001b[0m \u001b[0mwindow\u001b[0m \u001b[1;33m=\u001b[0m \u001b[0mMyWindow\u001b[0m\u001b[1;33m(\u001b[0m\u001b[1;33m)\u001b[0m\u001b[1;33m\u001b[0m\u001b[1;33m\u001b[0m\u001b[0m\n\u001b[0;32m     10\u001b[0m \u001b[0mwindow\u001b[0m\u001b[1;33m.\u001b[0m\u001b[0mshow\u001b[0m\u001b[1;33m(\u001b[0m\u001b[1;33m)\u001b[0m\u001b[1;33m\u001b[0m\u001b[1;33m\u001b[0m\u001b[0m\n\u001b[1;32m---> 11\u001b[1;33m \u001b[0mapp\u001b[0m\u001b[1;33m.\u001b[0m\u001b[0mexec_\u001b[0m\u001b[1;33m(\u001b[0m\u001b[1;33m)\u001b[0m\u001b[1;33m\u001b[0m\u001b[1;33m\u001b[0m\u001b[0m\n\u001b[0m",
      "\u001b[1;31mKeyboardInterrupt\u001b[0m: "
     ]
    }
   ],
   "source": [
    "###############\n",
    "# 그냥 창 열기\n",
    "###############\n",
    "\n",
    "form_class = uic.loadUiType(\"day02.ui\")[0]\n",
    "# pyqt 로 만든 ui폼 불러오기\n",
    "\n",
    "class Mywindow(QMainWindow,form_class): #MyWindow 클래스를 상속 받아서 작성\n",
    "    def __init__(self):                 #생성자로 창 생성\n",
    "        super().__init__()               # 부모의 생성자를 이용\n",
    "        self.setupUi(self)               # ui 창을 생성\n",
    "        \n",
    "app = QApplication(sys.argv)             # 파이썬은 원래 인터프리터 -> 한줄씩 실행후 종료\n",
    "window = Mywindow()                      # 윈도우 클래스로 객체 생성\n",
    "window.show()                            # 생성한 객체를 통해 창을 보여주는\n",
    "app.exec_()                               # 윈도우 창이 열린상태로 계속 대기 상태로 만듬"
   ]
  },
  {
   "cell_type": "code",
   "execution_count": 1,
   "metadata": {},
   "outputs": [
    {
     "name": "stdout",
     "output_type": "stream",
     "text": [
      "clicked\n",
      "clicked\n",
      "clicked\n"
     ]
    },
    {
     "data": {
      "text/plain": [
       "0"
      ]
     },
     "execution_count": 1,
     "metadata": {},
     "output_type": "execute_result"
    }
   ],
   "source": [
    "#####################\n",
    "# 버튼이 동작하는 창\n",
    "#####################\n",
    "\n",
    "form_class = uic.loadUiType(\"day02.ui\")[0]\n",
    "# pyqt 로 만든 ui폼 불러오기\n",
    "\n",
    "class Mywindow(QMainWindow,form_class): #MyWindow 클래스를 상속 받아서 작성\n",
    "    def __init__(self):                 #생성자로 창 생성\n",
    "        super().__init__()               # 부모의 생성자를 이용\n",
    "        self.setupUi(self)               # ui 창을 생성\n",
    "        self.pushButton.clicked.connect(self.bnk_clicked)  #버튼 클릭시 연결되는 매서드 정의\n",
    "        \n",
    "    def bnk_clicked(self):\n",
    "        print(\"clicked\")\n",
    "        \n",
    "        \n",
    "app = QApplication(sys.argv)             # 파이썬은 원래 인터프리터 -> 한줄씩 실행후 종료\n",
    "window = Mywindow()                      # 윈도우 클래스로 객체 생성\n",
    "window.show()                            # 생성한 객체를 통해 창을 보여주는\n",
    "app.exec_()                               # 윈도우 창이 열린상태로 계속 대기 상태로 만듬"
   ]
  }
 ],
 "metadata": {
  "interpreter": {
   "hash": "63fd5069d213b44bf678585dea6b12cceca9941eaf7f819626cde1f2670de90d"
  },
  "kernelspec": {
   "display_name": "Python 3.9.1 64-bit",
   "language": "python",
   "name": "python3"
  },
  "language_info": {
   "codemirror_mode": {
    "name": "ipython",
    "version": 3
   },
   "file_extension": ".py",
   "mimetype": "text/x-python",
   "name": "python",
   "nbconvert_exporter": "python",
   "pygments_lexer": "ipython3",
   "version": "3.9.7"
  },
  "orig_nbformat": 4
 },
 "nbformat": 4,
 "nbformat_minor": 2
}
